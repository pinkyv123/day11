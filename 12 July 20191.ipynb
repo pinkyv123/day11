{
 "cells": [
  {
   "cell_type": "markdown",
   "metadata": {},
   "source": [
    "### Regular Expression\n",
    "- Pattern Matching\n",
    "- Patterns(re) package\n",
    "- Cap symbol is used to represent the start of re\n",
    "- Dollor symbol is used to represent the end of re\n",
    "- [0-9]--> Any digit matching\n",
    "- Two digit number (^[0-9]{2}$)\n",
    "-  Five Digit number(^[0-9]{5}$)"
   ]
  },
  {
   "cell_type": "markdown",
   "metadata": {},
   "source": [
    "### Regular Expression for characters\n",
    "- [a-z]--> Any lower case characters\n",
    "- [A-Z]--> Any upper case characters\n",
    "- ^[a-z]{5}$-->It accept 5 lower case characters \n",
    "- ^[a-zA-Z]{8}$-- >Accpet 8 characters can be anything lower and upper\n",
    "- ^[a-zA-Z0-9]{8}$-- >Accpet 8 characters can be anything lower,upper and digit"
   ]
  },
  {
   "cell_type": "code",
   "execution_count": 1,
   "metadata": {},
   "outputs": [
    {
     "name": "stdout",
     "output_type": "stream",
     "text": [
      "True\n",
      "False\n"
     ]
    }
   ],
   "source": [
    "#Fuction to test two digit number matching\n",
    "import re\n",
    "def twoDigitMatching(n):\n",
    "    pattern='^[0-9]{2}$'\n",
    "    n=str(n)\n",
    "    if re.match(pattern,n):\n",
    "        return True\n",
    "    return False\n",
    "print(twoDigitMatching(12)) #True\n",
    "print(twoDigitMatching(123)) #False"
   ]
  },
  {
   "cell_type": "code",
   "execution_count": 2,
   "metadata": {},
   "outputs": [
    {
     "name": "stdout",
     "output_type": "stream",
     "text": [
      "True\n",
      "False\n"
     ]
    }
   ],
   "source": [
    "#Function to define to test username having 8 characters\n",
    "#Upper case and lower\n",
    "def testUsername(s):\n",
    "    pattern='^[a-zA-Z]{8}$'\n",
    "    if re.match(pattern,s):\n",
    "        return True\n",
    "    return False\n",
    "print(testUsername('GitamHYD'))\n",
    "print(testUsername('Gitam188'))"
   ]
  },
  {
   "cell_type": "markdown",
   "metadata": {},
   "source": [
    "### Regular Expression to match the India Mobile Number\n",
    "- 10 Digits\n",
    "- (First digit will be [6-9]) and remaining 9 digits will be [0-9]\n",
    "- Example:- 9535152553\n",
    "- Re- ^[6-9][0-9]{9}\n",
    "- Example:- 09988774455\n",
    "- (Re-^[0][6-9][0-9]{9}Dollar)\n",
    "- Example:- +919988774455\n",
    "- Re-^[+][9][1][6-9][0-9]{9}"
   ]
  },
  {
   "cell_type": "code",
   "execution_count": 3,
   "metadata": {},
   "outputs": [
    {
     "data": {
      "text/plain": [
       "True"
      ]
     },
     "execution_count": 3,
     "metadata": {},
     "output_type": "execute_result"
    }
   ],
   "source": [
    "#Function to validate the Indian Mobile number \n",
    "def phoneNumberValidation(phone):\n",
    "    pattern='^[6-9][0-9]{9}$|^[0][6-9][0-9]{9}$|^[+][9][1][6-9][0-9]{9}$'\n",
    "    phone=str(phone)\n",
    "    if re.match(pattern,phone):\n",
    "        return True\n",
    "    return False\n",
    "phoneNumberValidation('+919988774455')"
   ]
  },
  {
   "cell_type": "markdown",
   "metadata": {},
   "source": [
    "- Regular Expression to Validate the RollNumber\n",
    "  - Example : 1521A0501\n",
    "  - Example : 1521A0109\n",
    "  - Example : 1521A0499\n",
    "- Regular Expression to validate the password\n",
    "  - Parameters: Len min of 6 characters and Max of 15 characters\n",
    "  - Accept Lower case,Upper case,Digits Spl char(@,#,!)"
   ]
  },
  {
   "cell_type": "markdown",
   "metadata": {},
   "source": [
    "### Email Id validation using Regular Expression\n",
    "- Example:- Username@DomainName.extension\n",
    "- Username:- \n",
    "      - Length will be [6-15]\n",
    "      - No Spls characters apart from Underscore(_)\n",
    "      - Should not begin and ends with Underscore(_)\n",
    "      - Characters Set: All digits and lower case\n",
    "- DomainName:-\n",
    "      - Length will be [3-18]\n",
    "      - No spls characters \n",
    "      - Character Set: All digits and lower case\n",
    "- Extension:-\n",
    "      - Length will be [2-4]\n",
    "      - No Spl characters\n",
    "      - Character Set: Lower case Characters"
   ]
  },
  {
   "cell_type": "code",
   "execution_count": 6,
   "metadata": {},
   "outputs": [
    {
     "data": {
      "text/plain": [
       "True"
      ]
     },
     "execution_count": 6,
     "metadata": {},
     "output_type": "execute_result"
    }
   ],
   "source": [
    "def emailValidation(email):\n",
    "    pattern='^[0-9a-z][0-9a-z_.]{5,14}[@][a-z0-9]{3,18}[.][a-z]{2,4}$'\n",
    "    if re.match(pattern,email):\n",
    "        return True\n",
    "    return False\n",
    "emailValidation('pinkyushasvi@gmail.com')"
   ]
  },
  {
   "cell_type": "markdown",
   "metadata": {},
   "source": [
    "### Python Turtle\n",
    "- Turtle Graphics"
   ]
  },
  {
   "cell_type": "code",
   "execution_count": null,
   "metadata": {},
   "outputs": [],
   "source": [
    "#Step1: Make all the turtle package to be imported\n",
    "import turtle\n",
    "#Turtle method creates and returns a new object\n",
    "a1=turtle.Turtle()\n",
    "#forward() method moves 100 pixels\n",
    "turtle.forward(250)\n",
    "#we are done \n",
    "turtle.done()"
   ]
  },
  {
   "cell_type": "code",
   "execution_count": null,
   "metadata": {},
   "outputs": [],
   "source": [
    "#Line draw in reverse direction\n",
    "import turtle as tt\n",
    "a1=tt.Turtle()\n",
    "a1.backward(100)\n",
    "tt.done()"
   ]
  },
  {
   "cell_type": "code",
   "execution_count": null,
   "metadata": {},
   "outputs": [],
   "source": [
    "#Draw a square\n",
    "import turtle as tt\n",
    "a1=tt.Turtle()\n",
    "a1.forward(150)\n",
    "a1.right(90)\n",
    "a1.forward(150)\n",
    "a1.right(90)\n",
    "a1.forward(150)\n",
    "a1.right(90)\n",
    "a1.forward(150)\n",
    "a1.right(90)\n",
    "tt.done()"
   ]
  },
  {
   "cell_type": "code",
   "execution_count": null,
   "metadata": {},
   "outputs": [],
   "source": [
    "#draw the square \n",
    "import turtle as t\n",
    "aa=t.Turtle()\n",
    "aa.backward(150)\n",
    "aa.left(90)\n",
    "aa.backward(150)\n",
    "aa.left(90)\n",
    "aa.backward(150)\n",
    "aa.left(90)\n",
    "aa.backward(150)\n",
    "aa.left(90)\n",
    "t.done()"
   ]
  },
  {
   "cell_type": "code",
   "execution_count": null,
   "metadata": {},
   "outputs": [],
   "source": [
    "#Loop statements\n",
    "import turtle as t\n",
    "aa=t.Turtle()\n",
    "for i in range(4):\n",
    "    aa.forward(150)\n",
    "    aa.right(90)\n",
    "t.done()"
   ]
  },
  {
   "cell_type": "code",
   "execution_count": null,
   "metadata": {},
   "outputs": [],
   "source": [
    "#star\n",
    "import turtle as t\n",
    "a1=t.Turtle()\n",
    "for i in range(40):\n",
    "    a1.forward(50)\n",
    "    a1.right(144)\n",
    "t.done()"
   ]
  },
  {
   "cell_type": "code",
   "execution_count": null,
   "metadata": {},
   "outputs": [],
   "source": [
    "#spiraling star\n",
    "import turtle as t\n",
    "a1=t.Turtle()\n",
    "a1.pencolor('blue')\n",
    "for i in range(40):\n",
    "    a1.forward(i*10)\n",
    "    a1.right(144)\n",
    "t.done()"
   ]
  }
 ],
 "metadata": {
  "kernelspec": {
   "display_name": "Python 3",
   "language": "python",
   "name": "python3"
  },
  "language_info": {
   "codemirror_mode": {
    "name": "ipython",
    "version": 3
   },
   "file_extension": ".py",
   "mimetype": "text/x-python",
   "name": "python",
   "nbconvert_exporter": "python",
   "pygments_lexer": "ipython3",
   "version": "3.7.3"
  }
 },
 "nbformat": 4,
 "nbformat_minor": 2
}
